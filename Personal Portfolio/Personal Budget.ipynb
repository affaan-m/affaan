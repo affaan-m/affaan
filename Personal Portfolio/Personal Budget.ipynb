{
 "cells": [
  {
   "cell_type": "markdown",
   "metadata": {},
   "source": [
    "# Personal Budget "
   ]
  },
  {
   "cell_type": "markdown",
   "metadata": {},
   "source": [
    "We all have to maintain our own personal expenses in day to day life. It’s very normal for us to lose track of them and end up going out of budget. We require a way to keep ourself in within budget.\n",
    "\n",
    "This is where we can explore our skills in Python to come up with a solution. We can create a python program that allows you to keep track of the finance expenses.\n",
    "\n",
    "With the Finance Tracker, users can easily set a budget and add up their expenses to make better financial decisions. Anything beyond the budget will not be added up.\n",
    "\n",
    "**Objective:**To Estimate the Personal Financial Budget at the End of the Month."
   ]
  },
  {
   "cell_type": "code",
   "execution_count": null,
   "metadata": {},
   "outputs": [],
   "source": [
    "# logic\n",
    "# Create 2 Sets one for Expenses and one for Income\n",
    "# Budget = sum of Income Set\n",
    "# Budget - Expenses\n",
    "# create conditional if Budget >= 0 return budget value and say you are under/at budget\n",
    "# if budget < 0 you are over budget and return budget value\n"
   ]
  },
  {
   "cell_type": "code",
   "execution_count": 6,
   "metadata": {},
   "outputs": [
    {
     "name": "stdout",
     "output_type": "stream",
     "text": [
      "You are over budget, budget balance: $-1276\n"
     ]
    }
   ],
   "source": [
    "import numpy as np\n",
    "import pandas as pd\n",
    "\n",
    "# 4 weekly payments = 1 months income\n",
    "\n",
    "Income = {1000, 1000, 1000, 100}\n",
    "Expenses = {76, 11, 43, 199, 700, 200, 88, 95, 112, 22, 11, 55, 66, 653, 23, 12, 21, 21, 12, 21}\n",
    "Budget = sum(Income) - sum(Expenses)\n",
    "if Budget >= 0:\n",
    "    print(\"You are under budget, remaining budget: $\" + str(Budget))\n",
    "else: \n",
    "    print(\"You are over budget, budget balance: $\" + str(Budget))\n",
    "    \n",
    "    \n",
    "# method 2 download your expenses in CSV format, you can also download your income or just\n",
    "# have a set amount, extract the csv into a pandas dataframe\n",
    "# expenses = pd.read_csv('expenses.csv')\n",
    "# use sum function on df now instead else remains the same"
   ]
  }
 ],
 "metadata": {
  "kernelspec": {
   "display_name": "Python 3 (ipykernel)",
   "language": "python",
   "name": "python3"
  },
  "language_info": {
   "codemirror_mode": {
    "name": "ipython",
    "version": 3
   },
   "file_extension": ".py",
   "mimetype": "text/x-python",
   "name": "python",
   "nbconvert_exporter": "python",
   "pygments_lexer": "ipython3",
   "version": "3.9.13"
  }
 },
 "nbformat": 4,
 "nbformat_minor": 2
}

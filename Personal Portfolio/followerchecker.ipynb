{
 "cells": [
  {
   "cell_type": "code",
   "execution_count": 11,
   "id": "c32243d7",
   "metadata": {},
   "outputs": [
    {
     "name": "stdout",
     "output_type": "stream",
     "text": [
      "Enter Instagram password for affaan_rm: ········\n"
     ]
    },
    {
     "ename": "FileNotFoundError",
     "evalue": "[Errno 2] No such file or directory: '/var/folders/ck/y983js7n5lz1z5ls6fq8v0cm0000gn/t/.instaloader-affoon/session-affaan_rm'",
     "output_type": "error",
     "traceback": [
      "\u001b[0;31m---------------------------------------------------------------------------\u001b[0m",
      "\u001b[0;31mFileNotFoundError\u001b[0m                         Traceback (most recent call last)",
      "\u001b[0;32m/var/folders/ck/y983js7n5lz1z5ls6fq8v0cm0000gn/T/ipykernel_10817/2756856751.py\u001b[0m in \u001b[0;36m<module>\u001b[0;34m\u001b[0m\n\u001b[1;32m     16\u001b[0m \u001b[0mL\u001b[0m\u001b[0;34m.\u001b[0m\u001b[0mlogin\u001b[0m\u001b[0;34m(\u001b[0m\u001b[0mUSER\u001b[0m\u001b[0;34m,\u001b[0m \u001b[0mPASSWORD\u001b[0m\u001b[0;34m)\u001b[0m        \u001b[0;31m# (login)\u001b[0m\u001b[0;34m\u001b[0m\u001b[0;34m\u001b[0m\u001b[0m\n\u001b[1;32m     17\u001b[0m \u001b[0mL\u001b[0m\u001b[0;34m.\u001b[0m\u001b[0minteractive_login\u001b[0m\u001b[0;34m(\u001b[0m\u001b[0mUSER\u001b[0m\u001b[0;34m)\u001b[0m      \u001b[0;31m# (ask password on terminal)\u001b[0m\u001b[0;34m\u001b[0m\u001b[0;34m\u001b[0m\u001b[0m\n\u001b[0;32m---> 18\u001b[0;31m \u001b[0mL\u001b[0m\u001b[0;34m.\u001b[0m\u001b[0mload_session_from_file\u001b[0m\u001b[0;34m(\u001b[0m\u001b[0mUSER\u001b[0m\u001b[0;34m)\u001b[0m \u001b[0;31m# (load session created w/\u001b[0m\u001b[0;34m\u001b[0m\u001b[0;34m\u001b[0m\u001b[0m\n\u001b[0m\u001b[1;32m     19\u001b[0m                                \u001b[0;31m#  `instaloader -l USERNAME`)\u001b[0m\u001b[0;34m\u001b[0m\u001b[0;34m\u001b[0m\u001b[0m\n\u001b[1;32m     20\u001b[0m \u001b[0mprofile\u001b[0m \u001b[0;34m=\u001b[0m \u001b[0minstaloader\u001b[0m\u001b[0;34m.\u001b[0m\u001b[0mProfile\u001b[0m\u001b[0;34m.\u001b[0m\u001b[0mfrom_username\u001b[0m\u001b[0;34m(\u001b[0m\u001b[0mL\u001b[0m\u001b[0;34m.\u001b[0m\u001b[0mcontext\u001b[0m\u001b[0;34m,\u001b[0m \u001b[0;34m\"affaan_rm\"\u001b[0m\u001b[0;34m)\u001b[0m\u001b[0;34m\u001b[0m\u001b[0;34m\u001b[0m\u001b[0m\n",
      "\u001b[0;32m~/opt/anaconda3/lib/python3.9/site-packages/instaloader/instaloader.py\u001b[0m in \u001b[0;36mload_session_from_file\u001b[0;34m(self, username, filename)\u001b[0m\n\u001b[1;32m    616\u001b[0m             \u001b[0;32mif\u001b[0m \u001b[0;32mnot\u001b[0m \u001b[0mos\u001b[0m\u001b[0;34m.\u001b[0m\u001b[0mpath\u001b[0m\u001b[0;34m.\u001b[0m\u001b[0mexists\u001b[0m\u001b[0;34m(\u001b[0m\u001b[0mfilename\u001b[0m\u001b[0;34m)\u001b[0m\u001b[0;34m:\u001b[0m\u001b[0;34m\u001b[0m\u001b[0;34m\u001b[0m\u001b[0m\n\u001b[1;32m    617\u001b[0m                 \u001b[0mfilename\u001b[0m \u001b[0;34m=\u001b[0m \u001b[0mget_legacy_session_filename\u001b[0m\u001b[0;34m(\u001b[0m\u001b[0musername\u001b[0m\u001b[0;34m)\u001b[0m\u001b[0;34m\u001b[0m\u001b[0;34m\u001b[0m\u001b[0m\n\u001b[0;32m--> 618\u001b[0;31m         \u001b[0;32mwith\u001b[0m \u001b[0mopen\u001b[0m\u001b[0;34m(\u001b[0m\u001b[0mfilename\u001b[0m\u001b[0;34m,\u001b[0m \u001b[0;34m'rb'\u001b[0m\u001b[0;34m)\u001b[0m \u001b[0;32mas\u001b[0m \u001b[0msessionfile\u001b[0m\u001b[0;34m:\u001b[0m\u001b[0;34m\u001b[0m\u001b[0;34m\u001b[0m\u001b[0m\n\u001b[0m\u001b[1;32m    619\u001b[0m             \u001b[0mself\u001b[0m\u001b[0;34m.\u001b[0m\u001b[0mcontext\u001b[0m\u001b[0;34m.\u001b[0m\u001b[0mload_session_from_file\u001b[0m\u001b[0;34m(\u001b[0m\u001b[0musername\u001b[0m\u001b[0;34m,\u001b[0m \u001b[0msessionfile\u001b[0m\u001b[0;34m)\u001b[0m\u001b[0;34m\u001b[0m\u001b[0;34m\u001b[0m\u001b[0m\n\u001b[1;32m    620\u001b[0m             \u001b[0mself\u001b[0m\u001b[0;34m.\u001b[0m\u001b[0mcontext\u001b[0m\u001b[0;34m.\u001b[0m\u001b[0mlog\u001b[0m\u001b[0;34m(\u001b[0m\u001b[0;34m\"Loaded session from %s.\"\u001b[0m \u001b[0;34m%\u001b[0m \u001b[0mfilename\u001b[0m\u001b[0;34m)\u001b[0m\u001b[0;34m\u001b[0m\u001b[0;34m\u001b[0m\u001b[0m\n",
      "\u001b[0;31mFileNotFoundError\u001b[0m: [Errno 2] No such file or directory: '/var/folders/ck/y983js7n5lz1z5ls6fq8v0cm0000gn/t/.instaloader-affoon/session-affaan_rm'"
     ]
    }
   ],
   "source": [
    "# Affaan's Instagram Follower Checker Tool to see who you are \n",
    "# following that isn't following you back.\n",
    "\n",
    "\n",
    "# First login to instagram through creating an instance in your terminal\n",
    "# instaloader --l YOUR-USERNAME\n",
    "# Then download this script as a .py file and call it in your terminal using python3 followerchecker.py\n",
    "\n",
    "import instaloader\n",
    "import pandas as pd\n",
    "\n",
    "# Get instance\n",
    "L = instaloader.Instaloader()\n",
    "\n",
    "# Account Details\n",
    "USER = 'username'\n",
    "PASSWORD = 'password'\n",
    "\n",
    "# Now that the instance is created Login again\n",
    "L.login(USER, PASSWORD)        # (login)\n",
    "L.interactive_login(USER)      # (ask password on terminal)\n",
    "L.load_session_from_file(USER) # (load session created w/\n",
    "                               #  `instaloader -l USERNAME`)\n",
    "\n",
    "profile = instaloader.Profile.from_username(L.context, USER)\n",
    "\n",
    "# creates following and followers and then creates 2 sets out of them\n",
    "\n",
    "following = set([x.username for x in profile.get_followees()])\n",
    "followers = set([x.username for x in profile.get_followers()])\n",
    "\n",
    "# compares these sets and gets just the people not following you back\n",
    "\n",
    "not_following_back = following - followers\n",
    "\n",
    "with open('not_following_back.txt', 'w') as file:\n",
    "    file.write('People you are following who are not following you back:\\n')\n",
    "    for user in not_following_back:\n",
    "        file.write(user + '\\n')\n",
    "\n",
    "L.context.log(\"Done.\")\n",
    "\n",
    "# once this is complete check your user files /users/'your computer username' the file should be here\n",
    "# a text file named not_following_back and in this text file has the usernames of all the people\n",
    "# who do not follow you back\n",
    "# hope you guys like this program be sure to follow my socials and github\n",
    "# github: affaan-m\n",
    "# instagram: affaan_rm\n",
    "# linkedin: https://www.linkedin.com/in/affaanmustafa/\n",
    "# https://linktr.ee/affaan.eth\n",
    "# Check out my Company DCUBE @ dcube.ai : Personalized and Affordable Data Annotation Services"
   ]
  }
 ],
 "metadata": {
  "kernelspec": {
   "display_name": "Python 3 (ipykernel)",
   "language": "python",
   "name": "python3"
  },
  "language_info": {
   "codemirror_mode": {
    "name": "ipython",
    "version": 3
   },
   "file_extension": ".py",
   "mimetype": "text/x-python",
   "name": "python",
   "nbconvert_exporter": "python",
   "pygments_lexer": "ipython3",
   "version": "3.9.13"
  }
 },
 "nbformat": 4,
 "nbformat_minor": 5
}

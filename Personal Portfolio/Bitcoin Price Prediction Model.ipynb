{
 "cells": [
  {
   "cell_type": "markdown",
   "id": "ec87f037",
   "metadata": {},
   "source": [
    "# Affaan's Bitcoin Price Predictor Using Time-Series and SVR / Random Forest"
   ]
  },
  {
   "cell_type": "code",
   "execution_count": null,
   "id": "93872277",
   "metadata": {},
   "outputs": [],
   "source": [
    "import pandas as pd\n",
    "import numpy as np\n",
    "import matplotlib.pyplot as plt\n",
    "from sklearn.model_selection import train_test_split\n",
    "from sklearn.preprocessing import MinMaxScaler\n",
    "from sklearn.metrics import mean_squared_error\n",
    "from sklearn.ensemble import RandomForestRegressor\n",
    "from sklearn.model_selection import GridSearchCV\n",
    "import tensorflow as tf"
   ]
  },
  {
   "cell_type": "code",
   "execution_count": null,
   "id": "1a84dabc",
   "metadata": {},
   "outputs": [],
   "source": [
    "# Read 5 Year Price/Time Daily Increment Data for Bitcoin into a DataFrame\n",
    "bitcoin = bitcoin = pd.read_csv('BTC5Y.csv')\n",
    "bitcoin.head()"
   ]
  },
  {
   "cell_type": "code",
   "execution_count": null,
   "id": "30465d59",
   "metadata": {},
   "outputs": [],
   "source": [
    "bitcoin.info()"
   ]
  },
  {
   "cell_type": "code",
   "execution_count": null,
   "id": "989138f7",
   "metadata": {},
   "outputs": [],
   "source": [
    "# Convert the \"Date\" column to a datetime object\n",
    "bitcoin['Date'] = pd.to_datetime(bitcoin['Date'])\n",
    "\n",
    "# Set the float format to show up to 2 decimal places\n",
    "pd.options.display.float_format = '{:.2f}'.format\n",
    "\n",
    "# Plot a scatter plot of Bitcoin price data with time in years on the x-axis and price on the y-axis\n",
    "plt.plot(bitcoin['Date'], bitcoin['Close'])\n",
    "\n",
    "# Add a title and labels to the plot\n",
    "plt.title('Bitcoin Price Scatter Plot')\n",
    "plt.xlabel('Year')\n",
    "plt.ylabel('Price')\n",
    "\n",
    "# Show the plot\n",
    "plt.show()"
   ]
  },
  {
   "cell_type": "code",
   "execution_count": null,
   "id": "d1c36981",
   "metadata": {},
   "outputs": [],
   "source": [
    "# Set the date as the index\n",
    "bitcoin = bitcoin.set_index('Date')\n",
    "\n",
    "# Split the data into training and testing sets\n",
    "train_size = int(len(bitcoin) * 0.8)\n",
    "train_data = bitcoin[:train_size]\n",
    "test_data = bitcoin[train_size:]\n",
    "\n",
    "# Scale the data\n",
    "scaler = MinMaxScaler()\n",
    "train_data = scaler.fit_transform(train_data)\n",
    "test_data = scaler.transform(test_data)\n",
    "\n",
    "# Split the data into features (X) and target (y)\n",
    "X_train = train_data[:, :-1]\n",
    "y_train = train_data[:, -1]\n",
    "X_test = test_data[:, :-1]\n",
    "y_test = test_data[:, -1]\n",
    "\n",
    "# Define the Neural Network model\n",
    "model = tf.keras.Sequential([\n",
    "    tf.keras.layers.Dense(64, activation='relu', input_shape=(X_train.shape[1],)),\n",
    "    tf.keras.layers.Dense(64, activation='relu'),\n",
    "    tf.keras.layers.Dense(1)\n",
    "])\n",
    "\n",
    "# Compile the model\n",
    "model.compile(optimizer='adam', loss='mse')\n",
    "\n",
    "# Train the model on the training set\n",
    "history = model.fit(X_train, y_train, epochs=50, batch_size=32, validation_split=0.2)\n",
    "\n",
    "# Make predictions on the testing set\n",
    "y_pred = model.predict(X_test)\n",
    "\n",
    "# Scale the predictions back to the original scale\n",
    "y_pred = scaler.inverse_transform(np.concatenate((X_test, y_pred), axis=1))[:, -1]\n",
    "y_test = scaler.inverse_transform(np.concatenate((X_test, y_test.reshape(-1, 1)), axis=1))[:, -1]\n",
    "\n",
    "# Evaluate the model performance\n",
    "rmse = np.sqrt(mean_squared_error(y_test, y_pred))\n",
    "print('Root Mean Squared Error:', rmse)\n",
    "\n",
    "# Plot the training and validation loss\n",
    "plt.plot(history.history['loss'], label='Training Loss')\n",
    "plt.plot(history.history['val_loss'], label='Validation Loss')\n",
    "plt.legend()\n",
    "plt.title('Training and Validation Loss')\n",
    "plt.xlabel('Epoch')\n",
    "plt.ylabel('Loss')\n",
    "plt.show()\n",
    "\n",
    "# Plot the actual data and the predictions\n",
    "fig, ax = plt.subplots(figsize=(10, 6))\n",
    "ax.plot(bitcoin.index, bitcoin['Close'], label='Actual')\n",
    "ax.plot(test_data[:, -2], y_pred, label='Predicted')\n",
    "ax.legend(loc='upper left')\n",
    "plt.title('Bitcoin Price Prediction')\n",
    "plt.xlabel('Date')\n",
    "plt.ylabel('Price')\n",
    "plt.show()\n"
   ]
  }
 ],
 "metadata": {
  "kernelspec": {
   "display_name": "Python 3 (ipykernel)",
   "language": "python",
   "name": "python3"
  },
  "language_info": {
   "codemirror_mode": {
    "name": "ipython",
    "version": 3
   },
   "file_extension": ".py",
   "mimetype": "text/x-python",
   "name": "python",
   "nbconvert_exporter": "python",
   "pygments_lexer": "ipython3",
   "version": "3.9.13"
  }
 },
 "nbformat": 4,
 "nbformat_minor": 5
}

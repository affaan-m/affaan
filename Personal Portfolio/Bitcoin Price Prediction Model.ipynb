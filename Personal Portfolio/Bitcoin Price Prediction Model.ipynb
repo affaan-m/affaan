{
 "cells": [
  {
   "cell_type": "markdown",
   "id": "ec87f037",
   "metadata": {},
   "source": [
    "# Affaan's Bitcoin Price Predictor using Prophet for Time Series"
   ]
  },
  {
   "cell_type": "code",
   "execution_count": null,
   "id": "93872277",
   "metadata": {},
   "outputs": [],
   "source": [
    "import pandas as pd\n",
    "import numpy as np\n",
    "import matplotlib.pyplot as plt\n",
    "from fbprophet import Prophet\n",
    "from sklearn.model_selection import train_test_split\n",
    "from sklearn.preprocessing import MinMaxScaler\n",
    "from sklearn.metrics import mean_squared_error\n",
    "from sklearn.ensemble import RandomForestRegressor\n",
    "from sklearn.model_selection import GridSearchCV\n",
    "import tensorflow as tf"
   ]
  },
  {
   "cell_type": "code",
   "execution_count": null,
   "id": "1a84dabc",
   "metadata": {},
   "outputs": [],
   "source": [
    "# Read 5 Year Price/Time Daily Increment Data for Bitcoin into a DataFrame\n",
    "bitcoin = bitcoin = pd.read_csv('BTC5Y.csv')\n",
    "bitcoin.head()"
   ]
  },
  {
   "cell_type": "code",
   "execution_count": null,
   "id": "30465d59",
   "metadata": {},
   "outputs": [],
   "source": [
    "bitcoin.info()"
   ]
  },
  {
   "cell_type": "code",
   "execution_count": null,
   "id": "989138f7",
   "metadata": {},
   "outputs": [],
   "source": [
    "# Convert the \"Date\" column to a datetime object\n",
    "bitcoin['Date'] = pd.to_datetime(bitcoin['Date'])\n",
    "\n",
    "# Set the float format to show up to 2 decimal places\n",
    "pd.options.display.float_format = '{:.2f}'.format\n",
    "\n",
    "# Plot a scatter plot of Bitcoin price data with time in years on the x-axis and price on the y-axis\n",
    "plt.plot(bitcoin['Date'], bitcoin['Close'])\n",
    "\n",
    "# Add a title and labels to the plot\n",
    "plt.title('Bitcoin Price Scatter Plot')\n",
    "plt.xlabel('Year')\n",
    "plt.ylabel('Price')\n",
    "\n",
    "# Show the plot\n",
    "plt.show()"
   ]
  },
  {
   "cell_type": "code",
   "execution_count": null,
   "id": "d1c36981",
   "metadata": {},
   "outputs": [],
   "source": [
    "# Train/test split\n",
    "split_date = '2021-01-01'\n",
    "train = bitcoin.loc[bitcoin.index <= split_date]\n",
    "test = bitcoin.loc[bitcoin.index > split_date]\n",
    "\n",
    "# Initialize model parameters\n",
    "smoothing_level = 0.2\n",
    "smoothing_slope = 0.05\n",
    "seasonal_period = 365\n",
    "\n",
    "# Set up cross-validation using TimeSeriesSplit\n",
    "tscv = TimeSeriesSplit(n_splits=5)\n",
    "\n",
    "# Fit model and make predictions using cross-validation\n",
    "rmse_scores = []\n",
    "for train_index, test_index in tscv.split(train):\n",
    "    # Train/validation split for cross-validation\n",
    "    cv_train, cv_val = train.iloc[train_index], train.iloc[test_index]\n",
    "    \n",
    "    # Fit model to training data\n",
    "    model = ExponentialSmoothing(cv_train, trend='add', seasonal='add', seasonal_periods=seasonal_period)\n",
    "    fitted_model = model.fit(smoothing_level=smoothing_level, smoothing_slope=smoothing_slope)\n",
    "    \n",
    "    # Make predictions on validation data\n",
    "    preds = fitted_model.forecast(len(cv_val))\n",
    "    \n",
    "    # Calculate RMSE for validation period\n",
    "    rmse = np.sqrt(mean_squared_error(cv_val, preds))\n",
    "    rmse_scores.append(rmse)\n",
    "\n",
    "# Print average RMSE score\n",
    "print('Cross-validation RMSE scores:', rmse_scores)\n",
    "print('Average RMSE score:', np.mean(rmse_scores))\n",
    "\n",
    "# Fit model to entire training set and make predictions on test set\n",
    "model = ExponentialSmoothing(train, trend='add', seasonal='add', seasonal_periods=seasonal_period)\n",
    "fitted_model = model.fit(smoothing_level=smoothing_level, smoothing_slope=smoothing_slope)\n",
    "preds = fitted_model.forecast(len(test))\n",
    "\n",
    "# Plot actual vs. predicted values\n",
    "plt.figure(figsize=(10, 6))\n",
    "plt.plot(train.index, train, label='Training set')\n",
    "plt.plot(test.index, test, label='Test set')\n",
    "plt.plot(preds.index, preds, label='Predictions')\n",
    "plt.legend()\n",
    "plt.title('Bitcoin Price - Actual vs. Predicted (Holt\\'s Linear Exponential Smoothing)')\n",
    "plt.xlabel('Date')\n",
    "plt.ylabel('Price (USD)')\n",
    "plt.show()\n"
   ]
  }
 ],
 "metadata": {
  "kernelspec": {
   "display_name": "Python 3 (ipykernel)",
   "language": "python",
   "name": "python3"
  },
  "language_info": {
   "codemirror_mode": {
    "name": "ipython",
    "version": 3
   },
   "file_extension": ".py",
   "mimetype": "text/x-python",
   "name": "python",
   "nbconvert_exporter": "python",
   "pygments_lexer": "ipython3",
   "version": "3.9.13"
  }
 },
 "nbformat": 4,
 "nbformat_minor": 5
}
